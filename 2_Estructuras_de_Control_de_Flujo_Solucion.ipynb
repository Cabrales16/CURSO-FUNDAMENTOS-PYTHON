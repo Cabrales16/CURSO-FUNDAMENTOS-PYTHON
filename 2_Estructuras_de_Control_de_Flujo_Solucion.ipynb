{
  "cells": [
    {
      "cell_type": "markdown",
      "metadata": {
        "id": "DeXd9tlRnRxV"
      },
      "source": [
        "\n",
        "\n",
        "# Estructuras de Control de Flujo\n",
        "Lo primero a decir de las estructuras de control de flujo es que el alcance de la estructura no está controlado por llaves  { } o por palabras reservadas sino por sangría.\n",
        "\n",
        "La sangría en python es una forma de decirle a un intérprete de Python que el grupo de declaraciones pertenece a un bloque de código en particular."
      ]
    },
    {
      "cell_type": "markdown",
      "metadata": {
        "id": "DisuPETVnRxZ"
      },
      "source": [
        "## LA SENTENCIA CONDICIONAL IF"
      ]
    },
    {
      "cell_type": "code",
      "execution_count": null,
      "metadata": {
        "id": "b8YOWZOgnRxa",
        "outputId": "ddffc0b4-ba25-416e-c54d-9eb76f72d28e"
      },
      "outputs": [
        {
          "name": "stdout",
          "output_type": "stream",
          "text": [
            "puede votar\n"
          ]
        }
      ],
      "source": [
        "edad = int(input(\"Ingrese su edad\"))\n",
        "if edad >= 18:\n",
        "  print (\"puede votar\")"
      ]
    },
    {
      "cell_type": "markdown",
      "metadata": {
        "id": "vNgqdZiQnRxc"
      },
      "source": [
        "## CONDICIONALES DOBLES\n",
        "\n",
        "\n"
      ]
    },
    {
      "cell_type": "markdown",
      "metadata": {
        "id": "14vpb5a7nRxc"
      },
      "source": []
    },
    {
      "cell_type": "code",
      "execution_count": null,
      "metadata": {
        "id": "S8p9Jc8xnRxd"
      },
      "outputs": [],
      "source": [
        "if condicion:\n",
        "    codigo\n",
        "    codigo\n",
        "else:\n",
        "    codigo\n",
        "    codigo"
      ]
    },
    {
      "cell_type": "markdown",
      "metadata": {
        "id": "bW6JqpxknRxd"
      },
      "source": [
        "Ejemplo condicional doble if-else:"
      ]
    },
    {
      "cell_type": "code",
      "execution_count": null,
      "metadata": {
        "id": "r42QBq3onRxd",
        "outputId": "9ec2cd2c-f627-411a-ca2d-439eabc0be97"
      },
      "outputs": [
        {
          "name": "stdout",
          "output_type": "stream",
          "text": [
            "no puede votar\n"
          ]
        }
      ],
      "source": [
        "edad = int(input(\"Ingrese su edad\"))\n",
        "if edad >= 18:\n",
        "  print (\"puede votar\")\n",
        "else:\n",
        "  print(\"no puede votar\")"
      ]
    },
    {
      "cell_type": "markdown",
      "metadata": {
        "id": "qCG8hyDBnRxe"
      },
      "source": [
        "De esta manera, todo lo que esté dentro del respectivo bloque se ejecutará o no de acuerdo con la evaluación de la condición.  Pero lo que esté por fuera al nivel del if, se ejecutará de todos modos."
      ]
    },
    {
      "cell_type": "code",
      "execution_count": null,
      "metadata": {
        "id": "5PjPEzE3nRxf",
        "outputId": "9838d005-831c-4ad8-82ea-4cb9cc9f69f4"
      },
      "outputs": [
        {
          "name": "stdout",
          "output_type": "stream",
          "text": [
            "puede votar\n",
            "fin del programa\n"
          ]
        }
      ],
      "source": [
        "edad = int(input(\"INgrese du edad\"))\n",
        "if edad >= 18:\n",
        "  print (\"puede votar\")\n",
        "else:\n",
        "  print(\"no puede votar\")\n",
        "print(\"fin del programa\")"
      ]
    },
    {
      "cell_type": "markdown",
      "metadata": {
        "id": "QkCPQrcnnRxf"
      },
      "source": [
        "### CONDICIONALES MULTIPLES"
      ]
    },
    {
      "cell_type": "code",
      "execution_count": null,
      "metadata": {
        "id": "CyZUJyutnRxg"
      },
      "outputs": [],
      "source": [
        "if condicion:\n",
        "    codigo\n",
        "    codigo\n",
        "elif condicion:\n",
        "    codigo\n",
        "    codigo\n",
        "elif condicion:\n",
        "    codigo\n",
        "    codigo\n",
        "else:\n",
        "    codigo\n",
        "    codigo"
      ]
    },
    {
      "cell_type": "markdown",
      "metadata": {
        "id": "T-Yk0F3vnRxg"
      },
      "source": [
        "En este tipo de estructuras, al encontrarse una condición que se cumpla, las demás no serán evaluadas. El bloque else es opcional, pero de incluirse, siempre debe ser el último.\n",
        "\n",
        "EJEMPLO DE CONDICIONALES MULTIPLES"
      ]
    },
    {
      "cell_type": "markdown",
      "metadata": {
        "id": "BnsJEGeCnRxg"
      },
      "source": []
    },
    {
      "cell_type": "code",
      "execution_count": null,
      "metadata": {
        "id": "Tk-37yzUnRxh",
        "outputId": "f2ab12ef-1525-4cb7-a262-729ec507b3f2"
      },
      "outputs": [
        {
          "name": "stdout",
          "output_type": "stream",
          "text": [
            "Puede votar con autorizacion\n"
          ]
        }
      ],
      "source": [
        "edad = int(input(\"Ingrese su edad: \"))\n",
        "if edad >= 18:\n",
        "    print(\"Puede Votar\")\n",
        "elif edad >= 16:\n",
        "    print(\"Puede votar con autorizacion\")\n",
        "else:\n",
        "    print(\"No puede votar\")"
      ]
    },
    {
      "cell_type": "code",
      "execution_count": null,
      "metadata": {
        "id": "vCRXlPybnRxh",
        "outputId": "fa840fdb-8fc3-44ff-f915-dbf4c8fecdaa"
      },
      "outputs": [
        {
          "name": "stdout",
          "output_type": "stream",
          "text": [
            "La fruta no es reconocida\n"
          ]
        }
      ],
      "source": [
        "fruta = input(\"Ingrese una fruta: \")\n",
        "if fruta == \"manzana\":\n",
        "    print(\"La fruta es manzana\")\n",
        "elif fruta == \"pera\":\n",
        "    print(\"La fruta es pera\")\n",
        "elif fruta == \"naranja\":\n",
        "    print(\"La fruta es naranja\")\n",
        "elif fruta == \"platano\":\n",
        "    print(\"La fruta es platano\")\n",
        "else:\n",
        "    print(\"La fruta no es reconocida\")"
      ]
    },
    {
      "cell_type": "markdown",
      "metadata": {
        "id": "6_odMqBJnRxh"
      },
      "source": [
        "CONDICIONALES ANIDADAS"
      ]
    },
    {
      "cell_type": "markdown",
      "metadata": {
        "id": "rFqUGaxznRxh"
      },
      "source": [
        "Las condiciones anidadas son condiciones al interior de otras. En este tipo de condiciones, la consistencia en la sangría es la que le permite al intérprete reconocer cuál condición y bloque se encuentra dentro de alguna otra condición o bloque\n",
        "\n",
        "SINTAXIS **CONDICIONAL ANIDADO**"
      ]
    },
    {
      "cell_type": "markdown",
      "metadata": {
        "id": "EeI_5W30nRxi"
      },
      "source": []
    },
    {
      "cell_type": "code",
      "execution_count": null,
      "metadata": {
        "id": "D3b1-ug0nRxi"
      },
      "outputs": [],
      "source": [
        "if condicion:\n",
        "    codigo\n",
        "    codigo\n",
        "    if condicion:\n",
        "        codigo\n",
        "        codigo\n",
        "    else:\n",
        "        codigo\n",
        "        codigo"
      ]
    },
    {
      "cell_type": "markdown",
      "metadata": {
        "id": "kw8b8o4rnRxi"
      },
      "source": [
        "Las condiciones anidadas pueden llevar varios niveles de anidamiento y cada condición en si misma puede ser de tipo simple, doble o múltiple\n",
        "\n",
        "Ejemplo condicional anidada"
      ]
    },
    {
      "cell_type": "code",
      "execution_count": null,
      "metadata": {
        "id": "SDyRiFzQnRxi",
        "outputId": "5c050a33-fd16-4f02-db14-d55bdedca328"
      },
      "outputs": [
        {
          "name": "stdout",
          "output_type": "stream",
          "text": [
            "Usted es menor de edad no puede votar\n"
          ]
        }
      ],
      "source": [
        "edad = int (input(\"Ingrese su edad: \"))\n",
        "if edad >= 18:\n",
        "    print(\"Usted es mayor de edad puede votar\")\n",
        "\n",
        "else:\n",
        "    if edad >= 16:\n",
        "        print(\"Usted es adolescente puede votar con autorizacion\")\n",
        "    else:\n",
        "        print(\"Usted es menor de edad no puede votar\")"
      ]
    },
    {
      "cell_type": "markdown",
      "metadata": {
        "id": "cxgc7nQHnRxi"
      },
      "source": [
        "###Operadores Lógicos\n",
        "\n",
        "![logicos.png](data:image/png;base64,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)"
      ]
    },
    {
      "cell_type": "markdown",
      "metadata": {
        "id": "wJM7B4nUnRxj"
      },
      "source": [
        "Puedes identificar qué pasa en el siguiente código con una persona\n",
        "* a) soltera, linda de 20 años y no buena persona?\n",
        "* b) buena persona, no linda, soltera y de 45 años?\n",
        "* c) soltera de 31 años, no buena persona y linda?\n",
        "* d) casada, de 25 años, linda y buena persona?"
      ]
    },
    {
      "cell_type": "code",
      "execution_count": null,
      "metadata": {
        "id": "wdYhQ0A5nRxk",
        "outputId": "f2ffe23f-681c-4b5a-d36e-dc8096accedf"
      },
      "outputs": [
        {
          "name": "stdout",
          "output_type": "stream",
          "text": [
            "SOlo me Comprometo\n"
          ]
        }
      ],
      "source": [
        "estado_civil = input(\"Digite seu estado civil (Soltero, Casado,): \")\n",
        "edad = int(input(\"Digite su edad: \"))\n",
        "buena_persona =  input(\"Digite si es buena persona (Si, No): \")\n",
        "linda = input(\"Digite si es linda (Si, No): \")\n",
        "\n",
        "if estado_civil == \"Casado\":\n",
        "    print(\"No me caso ni me comprometo\")\n",
        "elif edad <= 30 and linda == \"Si\":\n",
        "    print(\"si Me caso y me comprometo\")\n",
        "else:\n",
        "    print(\"SOlo me Comprometo\")"
      ]
    },
    {
      "cell_type": "markdown",
      "metadata": {
        "id": "VDkWcZ8-nRxk"
      },
      "source": [
        "## Apropiación [Ejercicios Condicionales]"
      ]
    },
    {
      "cell_type": "markdown",
      "metadata": {
        "id": "YRbQ1Nm6nRxk"
      },
      "source": [
        "1. En un sistema de automatización industrial, un motor puede estar encendido o apagado. Si la temperatura de la máquina supera los 80 grados, el motor debe apagarse automáticamente. Escribir un programa que controle el estado del motor y lo apague si la temperatura supera los 80 grados."
      ]
    },
    {
      "cell_type": "code",
      "execution_count": null,
      "metadata": {
        "id": "hw_mAgFVnRxk",
        "outputId": "fa8fc429-0df8-492c-c284-f53fad082ff0"
      },
      "outputs": [
        {
          "name": "stdout",
          "output_type": "stream",
          "text": [
            "MOTOR ENCENDIDO\n",
            "Excele la temperatura\n",
            "Apagando motor\n"
          ]
        }
      ],
      "source": [
        "motor = input(\"Pulse 1 para encender el motro: \")\n",
        "\n",
        "if motor == \"0\":\n",
        "    print(\"Motor Apagado\")\n",
        "elif motor == \"1\":\n",
        "    motor_temp = int(input(\"Digite la temperatura del motor:\"))\n",
        "    print(\"MOTOR ENCENDIDO\")\n",
        "    if motor_temp >= 80:\n",
        "        print(\"Excele la temperatura\\n\" +\"Apagando motor\")\n"
      ]
    },
    {
      "cell_type": "markdown",
      "metadata": {
        "id": "-jAwJCs2nRxk"
      },
      "source": [
        "2.  Una universidad ofrece un descuento a los estudiantes que depende del estrato y la edad. Si el estrato es 1 y su edad es menor a 18 el descuento será del 20% sobre el valor de la matrícula. Si el estrato es 1 y el alumno tiene 18 o mas años, el descuento será del 15%. Si el estrato es 2 y la edad es menor a 18 años, el descuento será del 10% y si el estrato es 2 y la edad es 18 años o mas, el descuento será del 5%.\n",
        "\n",
        "Escribir el precio que deberá pagar un estudiante por su matrícula y el valor del descuento."
      ]
    },
    {
      "cell_type": "code",
      "execution_count": null,
      "metadata": {
        "colab": {
          "base_uri": "https://localhost:8080/"
        },
        "id": "BB6uQBSrqSNF",
        "outputId": "4395e60d-429e-452d-b66b-1d8079b96ec9"
      },
      "outputs": [
        {
          "name": "stdout",
          "output_type": "stream",
          "text": [
            "Ingrese su número de estrato: 3\n",
            "Ingrese su edad: 20\n",
            "Ingrese el valor de su matrícula: 1000000\n",
            "Error\n",
            "No tiene descuento\n"
          ]
        }
      ],
      "source": [
        "estrato = int(input(\"Ingrese su número de estrato: \"))\n",
        "edad = int(input(\"Ingrese su edad: \"))\n",
        "precio = int(input(\"Ingrese el valor de su matrícula: \"))\n",
        "\n",
        "if (estrato == 1) and (edad < 18):\n",
        "  descuento = precio * 0.2\n",
        "  precio = precio - descuento\n",
        "  print(f\"Tiene un descuento del 20%. Lo que equivale a: ${precio:.0f}\" )\n",
        "\n",
        "elif (estrato == 1) and (edad >= 18):\n",
        "  descuento = precio * 0.15\n",
        "  precio = precio - descuento\n",
        "  print(f\"Tiene un descuento del 15% Lo que equivale a: ${precio:.0f}\")\n",
        "\n",
        "elif (estrato == 2) and (edad < 18):\n",
        "  descuento = precio * 0.1\n",
        "  print(f\"Tiene un descuento del 10% Lo que equivale a: ${precio:.0f}\")\n",
        "\n",
        "elif (estrato == 2) and (edad >= 18):\n",
        "  descuento = precio * 0.05\n",
        "  precio = precio - descuento\n",
        "  print(f\"Tiene un descuento del 5% Lo que equivale a: ${precio:.0f}\")\n",
        "\n",
        "else:\n",
        "  print(\"Lo siento, no tiene descuento\")"
      ]
    },
    {
      "cell_type": "markdown",
      "metadata": {
        "id": "tv9TLn8TnRxl"
      },
      "source": [
        "3. En un sistema de control de calidad, se deben inspeccionar las piezas de un producto para determinar si cumplen con los estándares de calidad. Si la pieza es defectuosa, se debe marcar como rechazada y enviar una alerta al operador. Si la pieza cumple con los estándares de calidad, se debe marcar como aprobada y continuar con la producción.  \n",
        "\n",
        "Realice un programa que lea una entrada binaria en la que los 1s significan estándares de calidad cumplidos y los 0s significan estándares de calidad No cumplidos.  El programa debe rechazar la pieza ante cualquier estándar no cumplido."
      ]
    },
    {
      "cell_type": "code",
      "execution_count": null,
      "metadata": {
        "colab": {
          "base_uri": "https://localhost:8080/"
        },
        "id": "aJdB3ep5nRxl",
        "outputId": "bcc3ce29-5684-4623-c374-95eb8c76b647"
      },
      "outputs": [
        {
          "name": "stdout",
          "output_type": "stream",
          "text": [
            "Ingrese el numero del producto (Por ejemplos:10110111): 11111111\n",
            "La pieza cumple con los estandares de calidad\n"
          ]
        }
      ],
      "source": [
        "num_pieza = int(input(\"Ingrese el numero del producto (Por ejemplos:10110111): \"))\n",
        "\n",
        "if num_pieza == 11111111:\n",
        "  print(\"La pieza SI cumple con los estandares de calidad\")\n",
        "else:\n",
        "  print(\"La pieza NO cumple con los los estandares de calidad\")"
      ]
    },
    {
      "cell_type": "markdown",
      "metadata": {
        "id": "Ljrp021jnRxl"
      },
      "source": [
        "# LOS CICLOS"
      ]
    },
    {
      "cell_type": "markdown",
      "metadata": {
        "id": "0Ez01ZtYnRxm"
      },
      "source": []
    },
    {
      "cell_type": "markdown",
      "metadata": {
        "id": "XlZ6qvTLnRxm"
      },
      "source": [
        "## EL CICLO WHILE"
      ]
    },
    {
      "cell_type": "markdown",
      "metadata": {
        "id": "hGdDdmXEnRxm"
      },
      "source": [
        "El ciclo while es muy sencillo, solo ponemos la condición a evaluar y en su interior el código que se ejecuta mientras la condición se cumpla; manteniendo las reglas de sangría ya conocidas"
      ]
    },
    {
      "cell_type": "markdown",
      "metadata": {
        "id": "P5OYbjUpnRxm"
      },
      "source": [
        "**sintaxis**"
      ]
    },
    {
      "cell_type": "code",
      "execution_count": null,
      "metadata": {
        "id": "WNiLoqoXnRxn"
      },
      "outputs": [],
      "source": [
        "while condicion:\n",
        "    codigo\n",
        "    codigo"
      ]
    },
    {
      "cell_type": "code",
      "execution_count": null,
      "metadata": {
        "id": "lUukZl9DnRxn",
        "outputId": "cf2642b2-c319-49fc-e21f-117e31601ee2"
      },
      "outputs": [
        {
          "name": "stdout",
          "output_type": "stream",
          "text": [
            "1\n",
            "2\n",
            "3\n",
            "4\n",
            "5\n"
          ]
        }
      ],
      "source": [
        "x = 1\n",
        "while x <= 5:\n",
        "    print(x)\n",
        "    x += 1"
      ]
    },
    {
      "cell_type": "code",
      "execution_count": null,
      "metadata": {
        "id": "VAd2jZW3nRxn",
        "outputId": "c8be8194-fa26-41eb-f281-0fe6d75e58e3"
      },
      "outputs": [
        {
          "name": "stdout",
          "output_type": "stream",
          "text": [
            "el color seleccionado fue:  verde\n"
          ]
        }
      ],
      "source": [
        "color = \"rojo\"\n",
        "\n",
        "while color != \"verde\":\n",
        "    color = input(\"Adivina el color: \")\n",
        "    print (\"el color seleccionado fue: \", color )\n",
        "    break"
      ]
    },
    {
      "cell_type": "markdown",
      "metadata": {
        "id": "iZ7n3zZdnRxo"
      },
      "source": [
        "## EL CICLO FOR"
      ]
    },
    {
      "cell_type": "markdown",
      "metadata": {
        "id": "dRzOWXgunRxp"
      },
      "source": [
        "**sintaxis**"
      ]
    },
    {
      "cell_type": "markdown",
      "metadata": {
        "id": "h5NOqsfhnRxp"
      },
      "source": [
        "for **nombre_variable** in iterable_"
      ]
    },
    {
      "cell_type": "code",
      "execution_count": null,
      "metadata": {
        "id": "Jc5q39HJnRxp"
      },
      "outputs": [],
      "source": [
        "for varibale in iterable:\n",
        "    codigo\n",
        "    codigo"
      ]
    },
    {
      "cell_type": "code",
      "execution_count": null,
      "metadata": {
        "id": "60-I61jgnRxp"
      },
      "outputs": [],
      "source": [
        "cad = [1,23,5,22,80, \"casa\", 2.4, \"sena\", 21]\n",
        "\n",
        "for x in cad:\n",
        "    print(x)\n",
        "    print(type(x))"
      ]
    },
    {
      "cell_type": "code",
      "execution_count": null,
      "metadata": {
        "id": "RX5LuqhcnRxp",
        "outputId": "5905453b-4bf5-45ad-8ee7-4db5bc5552c5"
      },
      "outputs": [
        {
          "name": "stdout",
          "output_type": "stream",
          "text": [
            "hola 1\n",
            "hola 2\n",
            "hola 3\n",
            "hola 4\n",
            "hola 5\n"
          ]
        }
      ],
      "source": [
        "for x in range(5): #0,1,2,3,4\n",
        "    print(\"hola\", x+1) # hola 1, hola 2, hola 3, hola 4"
      ]
    },
    {
      "cell_type": "markdown",
      "metadata": {
        "id": "dRzDRBQhnRxp"
      },
      "source": [
        "Es común usar la función range() para generar el iterable deseado, en caso de querer ejecutar el ciclo for un número determinado de veces.\n",
        "\n",
        "La función range() tiene los siguientes parámetros: range(start, stop, step)."
      ]
    },
    {
      "cell_type": "markdown",
      "metadata": {
        "id": "pjCQ3HsbnRxq"
      },
      "source": [
        "start: (opcional) valor inicial, por defecto 0\n",
        "\n",
        "stop: (obligatorio) posición final, detiene el ciclo antes de llegar a ella\n",
        "\n",
        "step: (opcional) incremento en cada paso, por defecto 1"
      ]
    },
    {
      "cell_type": "markdown",
      "metadata": {
        "id": "2CAvNIDwnRxq"
      },
      "source": []
    },
    {
      "cell_type": "markdown",
      "metadata": {
        "id": "bHHRa0zhnRxq"
      },
      "source": [
        "**Ejemplo**"
      ]
    },
    {
      "cell_type": "code",
      "execution_count": null,
      "metadata": {
        "id": "kwjYyO05nRxq",
        "outputId": "3fe3054c-2a23-477b-9771-210a91fd0770"
      },
      "outputs": [
        {
          "name": "stdout",
          "output_type": "stream",
          "text": [
            "1\n",
            "3\n",
            "5\n",
            "7\n",
            "9\n"
          ]
        }
      ],
      "source": [
        "for x in range (1, 11, 2):\n",
        "    print(x)"
      ]
    },
    {
      "cell_type": "code",
      "execution_count": null,
      "metadata": {
        "id": "BqucGWi8nRxq"
      },
      "outputs": [],
      "source": []
    },
    {
      "cell_type": "code",
      "execution_count": null,
      "metadata": {
        "id": "jlUUz_gYnRxq",
        "outputId": "29680cf6-0f9c-4a33-88d6-5e93228dd56c"
      },
      "outputs": [
        {
          "name": "stdout",
          "output_type": "stream",
          "text": [
            "hola 0\n",
            "hola 1\n",
            "hola 2\n",
            "hola 3\n",
            "hola 4\n"
          ]
        }
      ],
      "source": [
        "for x in range(0,5,1):\n",
        "    print(\"hola\", x)"
      ]
    },
    {
      "cell_type": "code",
      "execution_count": null,
      "metadata": {
        "id": "Z_G-VtLwnRxr",
        "outputId": "a2aff772-31d7-4d4f-dc4d-e8db150584cc"
      },
      "outputs": [
        {
          "name": "stdout",
          "output_type": "stream",
          "text": [
            "2\n",
            "4\n",
            "6\n",
            "8\n",
            "10\n"
          ]
        }
      ],
      "source": [
        "for x in range (2,12,2):\n",
        "    print(x)"
      ]
    },
    {
      "cell_type": "code",
      "execution_count": null,
      "metadata": {
        "id": "UxdvpBKEnRxr",
        "outputId": "d6d27ea8-69b6-4cb9-8f63-607a8606d07e"
      },
      "outputs": [
        {
          "name": "stdout",
          "output_type": "stream",
          "text": [
            "0\n",
            "1\n",
            "2\n",
            "3\n",
            "4\n",
            "5\n",
            "6\n",
            "7\n",
            "8\n",
            "9\n"
          ]
        }
      ],
      "source": [
        "for x in range(10):\n",
        "    print(x)"
      ]
    },
    {
      "cell_type": "code",
      "execution_count": null,
      "metadata": {
        "id": "hBEwzjUonRxr",
        "outputId": "3900ecb8-6195-4645-d393-41ab0800f6f1"
      },
      "outputs": [
        {
          "name": "stdout",
          "output_type": "stream",
          "text": [
            "9\n",
            "8\n",
            "7\n",
            "6\n",
            "5\n",
            "4\n",
            "3\n",
            "2\n",
            "1\n"
          ]
        }
      ],
      "source": [
        "for x in range(9,0,-1):\n",
        "    print(x)"
      ]
    },
    {
      "cell_type": "code",
      "execution_count": null,
      "metadata": {
        "id": "-l6BigRqnRxr"
      },
      "outputs": [],
      "source": [
        "for x in range(3,100,3):\n",
        "    print(x)\n"
      ]
    },
    {
      "cell_type": "code",
      "execution_count": null,
      "metadata": {
        "id": "7DO_zH4enRxr",
        "outputId": "ba883acc-1ebd-49b0-b1ba-c89ea1c518aa"
      },
      "outputs": [
        {
          "name": "stdout",
          "output_type": "stream",
          "text": [
            "1\n",
            "3\n",
            "5\n"
          ]
        }
      ],
      "source": [
        "nombre = input(\"Ingrese su nombre: \")\n",
        "for x in range(1, len(nombre), 2):\n",
        "    print(x)"
      ]
    },
    {
      "cell_type": "markdown",
      "metadata": {
        "id": "CNMoiF1SnRxs"
      },
      "source": [
        "# break continue"
      ]
    },
    {
      "cell_type": "markdown",
      "metadata": {
        "id": "ajhHw1XYnRxs"
      },
      "source": [
        "**¿Qué mostraría el siguiente programa?**"
      ]
    },
    {
      "cell_type": "code",
      "execution_count": null,
      "metadata": {
        "id": "PVZ1OTNMnRxs",
        "outputId": "1132ead6-9be5-4106-e6b1-511fc0e721e1"
      },
      "outputs": [
        {
          "name": "stdout",
          "output_type": "stream",
          "text": [
            "La instrucción break:\n",
            "Dentro del bucle. 1\n",
            "Dentro del bucle. 2\n",
            "Fuera del bucle.\n"
          ]
        }
      ],
      "source": [
        "print(\"La instrucción break:\")\n",
        "for i in range(1, 6): #[1,2,3,4,5]\n",
        "    if i == 3:\n",
        "        break\n",
        "\n",
        "    print(\"Dentro del bucle.\", i)\n",
        "\n",
        "print(\"Fuera del bucle.\")"
      ]
    },
    {
      "cell_type": "code",
      "execution_count": null,
      "metadata": {
        "id": "m31BOP1wnRxs",
        "outputId": "1a3243a3-7694-43ce-94f6-91cc64d62f5b"
      },
      "outputs": [
        {
          "name": "stdout",
          "output_type": "stream",
          "text": [
            "\n",
            "La instrucción continue:\n",
            "Dentro del bucle. 1\n",
            "Dentro del bucle. 2\n",
            "Dentro del bucle. 4\n",
            "Dentro del bucle. 5\n",
            "Fuera del bucle.\n"
          ]
        }
      ],
      "source": [
        "print(\"\\nLa instrucción continue:\")\n",
        "for i in range(1, 6):#[1,2,3,4,5]\n",
        "    if i == 3:\n",
        "        continue\n",
        "    print(\"Dentro del bucle.\", i)\n",
        "print(\"Fuera del bucle.\")"
      ]
    },
    {
      "cell_type": "markdown",
      "metadata": {
        "id": "68Zvd8LcnRxs"
      },
      "source": [
        "## Apropiación [Ejercicios Cíclicos]"
      ]
    },
    {
      "cell_type": "markdown",
      "metadata": {
        "id": "Qtxweb6OnRxs"
      },
      "source": []
    },
    {
      "cell_type": "markdown",
      "metadata": {
        "id": "_JJcrE4OnRxs"
      },
      "source": [
        "1. Leer un número y presentar la tabla de multiplicar de ese número entre 1 y 10. Utilizar el siguiente formato de ejemplo:\n",
        "```\n",
        "1 x 1 = 1\n",
        "1 x 2 = 2\n",
        "1 x 3 = 3\n",
        "1 x 4 = 4\n",
        "1 x 5 = 5\n",
        "```"
      ]
    },
    {
      "cell_type": "code",
      "execution_count": null,
      "metadata": {
        "colab": {
          "base_uri": "https://localhost:8080/"
        },
        "id": "4N9_NEAFqmxV",
        "outputId": "bab01c29-ff2f-43eb-f25e-8a7f50cda62e"
      },
      "outputs": [
        {
          "name": "stdout",
          "output_type": "stream",
          "text": [
            "Introduce un número para mostrar su tabla de multiplicar: 2\n",
            "1 × 2 = 2\n",
            "2 × 2 = 4\n",
            "3 × 2 = 6\n",
            "4 × 2 = 8\n",
            "5 × 2 = 10\n",
            "6 × 2 = 12\n",
            "7 × 2 = 14\n",
            "8 × 2 = 16\n",
            "9 × 2 = 18\n",
            "10 × 2 = 20\n"
          ]
        }
      ],
      "source": [
        "numero = int(input(\"Introduce un número para mostrar su tabla de multiplicar: \"))\n",
        "for i in range(1, 11):\n",
        "\n",
        "    resultado = numero * i\n",
        "    print(i, \"×\", numero, \"=\", resultado)"
      ]
    },
    {
      "cell_type": "markdown",
      "metadata": {
        "id": "sTVcbtd3nRxs"
      },
      "source": []
    },
    {
      "cell_type": "markdown",
      "metadata": {
        "id": "QOs8LI2-nRxs"
      },
      "source": [
        "2. En un partido de fútbol, se ofrece un descuento a los aficionados que depende del estrato y la edad.  Si el estrato es 1 y su edad es menor a 18 el descuento será del 20% sobre el valor de la boleta.   Si el estrato es 1 y el alumno tiene 18 o mas años, el descuento será del 15%.  Si  el estrato es 2 y la edad es menor a 18 años, el descuento será del 10% y si el estrato es 2 y la edad es 18 años o más, el descuento será del 5%.  Determinar el total del dinero recaudado y descontado por las últimas N personas que ingresan al partido."
      ]
    },
    {
      "cell_type": "code",
      "execution_count": null,
      "metadata": {
        "colab": {
          "base_uri": "https://localhost:8080/"
        },
        "id": "HgqmEQ-Jr1rR",
        "outputId": "c3b47620-1b44-4a16-eb65-f8a46c787358"
      },
      "outputs": [
        {
          "name": "stdout",
          "output_type": "stream",
          "text": [
            "Ingrese el valor de la boleta: 5000\n",
            "Ingrese la cantidad de personas que van a ingresar al partido: 3\n",
            "\n",
            "Persona 1:\n",
            "Ingrese el número de su estrato: 1\n",
            "Ingrese su edad: 16\n",
            "\n",
            "Persona 2:\n",
            "Ingrese el número de su estrato: 2\n",
            "Ingrese su edad: 17\n",
            "\n",
            "Persona 3:\n",
            "Ingrese el número de su estrato: 1\n",
            "Ingrese su edad: 20\n",
            " \n",
            "Descuento aplicado: 750.00\n",
            "Total a pagar: 4250.00\n",
            "Total recaudado: 12750.00\n",
            "Total de descuentos dados: 2250.00\n"
          ]
        }
      ],
      "source": [
        "valor_boleta = int(input(\"Ingrese el valor de la boleta: \"))\n",
        "cant_personas = int(input(\"Ingrese la cantidad de personas que van a ingresar al partido: \"))\n",
        "\n",
        "total_recaudado = 0\n",
        "total_desc = 0\n",
        "\n",
        "for i in range(cant_personas):\n",
        "  print(f\"\\nPersona {i + 1}:\")\n",
        "  estrato = int(input(\"Ingrese el número de su estrato: \"))\n",
        "  edad = int(input(\"Ingrese su edad: \"))\n",
        "\n",
        "if (estrato == 1) and (edad < 18):\n",
        "  descuento = valor_boleta * 0.2\n",
        "\n",
        "elif (estrato == 1) and (edad >= 18):\n",
        "  descuento = valor_boleta * 0.15\n",
        "\n",
        "elif (estrato == 2) and (edad < 18):\n",
        "  descuento = valor_boleta * 0.1\n",
        "\n",
        "elif (estrato == 2) and (edad >= 18):\n",
        "  descuento = valor_boleta * 0.05\n",
        "\n",
        "else:\n",
        "  print(\"Estrato no valido, no se aplicara el descuento\")\n",
        "  descuento = 0.0\n",
        "\n",
        "pago = valor_boleta - descuento\n",
        "total_recaudado = pago * cant_personas\n",
        "total_desc = descuento * cant_personas\n",
        "\n",
        "print(\" \")\n",
        "print(f\"Descuento aplicado: {descuento:.2f}\")\n",
        "print(f\"Total a pagar: {pago:.2f}\")\n",
        "\n",
        "print(f\"Total recaudado: {total_recaudado:.2f}\")\n",
        "print(f\"Total de descuentos dados: {total_desc:.2f}\")"
      ]
    },
    {
      "cell_type": "markdown",
      "metadata": {
        "id": "7lGk27WEnRxt"
      },
      "source": [
        "3.  Leer un password de ingreso a un programa y mostrar el mensaje de bienvenida si es correcto. Mientras no lo sea, debe mostrar el mensaje de Password incorrecto. El programa debe terminar automáticamente al quinto intento fallido."
      ]
    },
    {
      "cell_type": "markdown",
      "metadata": {
        "id": "5r5BGnAYnRxt"
      },
      "source": []
    },
    {
      "cell_type": "code",
      "execution_count": null,
      "metadata": {
        "colab": {
          "base_uri": "https://localhost:8080/"
        },
        "id": "FB_jaI4L0sOU",
        "outputId": "2e99fcae-c9e1-4f01-e7b3-666879325d47"
      },
      "outputs": [
        {
          "name": "stdout",
          "output_type": "stream",
          "text": [
            "Cree el nombre de su usuario andres\n",
            "Cree la contraseña de su usuario: 123\n",
            "Ingrese el nombre de su usuario: a\n",
            "Ingrese la contraseña: a\n",
            "\n",
            "Le quedan 4 intentos\n",
            "Ingrese el nombre de su usuario: a\n",
            "Ingrese la contraseña: a\n",
            "\n",
            "Le quedan 3 intentos\n",
            "Ingrese el nombre de su usuario: andres\n",
            "Ingrese la contraseña: 123\n",
            "Bienvenido al sistema\n"
          ]
        }
      ],
      "source": [
        "nom_usuario = input(\"Cree el nombre de su usuario \")\n",
        "password = input(\"Cree la contraseña de su usuario: \")\n",
        "intentos = 5\n",
        "\n",
        "for i in range(intentos):\n",
        "  usuario = input(\"Ingrese el nombre de su usuario: \")\n",
        "  password_conf = input(\"Ingrese la contraseña: \")\n",
        "\n",
        "  if (usuario == nom_usuario) and (password_conf == password):\n",
        "    print(\"Bienvenido al sistema\")\n",
        "    break\n",
        "\n",
        "  elif intentos - i - 1:\n",
        "    print(f\"\\nLe quedan {intentos - i - 1} intentos\")\n",
        "\n",
        "  else:\n",
        "    (intentos - i - 1) == 0\n",
        "    print(\"Demasiados intentos. Intentelo de nuevo mas tarde\")"
      ]
    }
  ],
  "metadata": {
    "colab": {
      "provenance": []
    },
    "kernelspec": {
      "display_name": "Python 3",
      "language": "python",
      "name": "python3"
    },
    "language_info": {
      "codemirror_mode": {
        "name": "ipython",
        "version": 3
      },
      "file_extension": ".py",
      "mimetype": "text/x-python",
      "name": "python",
      "nbconvert_exporter": "python",
      "pygments_lexer": "ipython3",
      "version": "3.12.3"
    }
  },
  "nbformat": 4,
  "nbformat_minor": 0
}
